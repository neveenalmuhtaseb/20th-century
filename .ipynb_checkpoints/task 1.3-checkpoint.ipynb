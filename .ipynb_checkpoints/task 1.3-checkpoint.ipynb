{
 "cells": [
  {
   "cell_type": "markdown",
   "id": "b99837e2-56c3-405f-bfa1-bcb3dfb7126b",
   "metadata": {},
   "source": [
    "# import libraries"
   ]
  },
  {
   "cell_type": "code",
   "execution_count": 3,
   "id": "c402f9ad-6ea8-4854-a452-d0f893c89fe2",
   "metadata": {},
   "outputs": [],
   "source": [
    "import pandas as pd\n",
    "import numpy as np"
   ]
  },
  {
   "cell_type": "markdown",
   "id": "9eb3e094-5d6d-4a6d-b271-913c0105b03a",
   "metadata": {},
   "source": [
    "# Create random data using the pd.DataFrame()"
   ]
  },
  {
   "cell_type": "code",
   "execution_count": 13,
   "id": "0492864e-ed8b-440c-98d4-1c234e57e995",
   "metadata": {},
   "outputs": [],
   "source": [
    "data = pd.DataFrame({\"Name\": ['neveen', 'yaser', 'tia','kamal'],\n",
    "                     \"age\": [\"31\", \"33\", \"29\", \"32\"],\n",
    "                     \"1st-exam\":[88,90,70,87],\n",
    "                    \"2nd-exam\":[78,93,82,79]})"
   ]
  },
  {
   "cell_type": "code",
   "execution_count": 15,
   "id": "98459f39-7921-41ef-94a3-24d595a9bf16",
   "metadata": {},
   "outputs": [
    {
     "data": {
      "text/html": [
       "<div>\n",
       "<style scoped>\n",
       "    .dataframe tbody tr th:only-of-type {\n",
       "        vertical-align: middle;\n",
       "    }\n",
       "\n",
       "    .dataframe tbody tr th {\n",
       "        vertical-align: top;\n",
       "    }\n",
       "\n",
       "    .dataframe thead th {\n",
       "        text-align: right;\n",
       "    }\n",
       "</style>\n",
       "<table border=\"1\" class=\"dataframe\">\n",
       "  <thead>\n",
       "    <tr style=\"text-align: right;\">\n",
       "      <th></th>\n",
       "      <th>Name</th>\n",
       "      <th>age</th>\n",
       "      <th>1st-exam</th>\n",
       "      <th>2nd-exam</th>\n",
       "    </tr>\n",
       "  </thead>\n",
       "  <tbody>\n",
       "    <tr>\n",
       "      <th>0</th>\n",
       "      <td>neveen</td>\n",
       "      <td>31</td>\n",
       "      <td>88</td>\n",
       "      <td>78</td>\n",
       "    </tr>\n",
       "    <tr>\n",
       "      <th>1</th>\n",
       "      <td>yaser</td>\n",
       "      <td>33</td>\n",
       "      <td>90</td>\n",
       "      <td>93</td>\n",
       "    </tr>\n",
       "    <tr>\n",
       "      <th>2</th>\n",
       "      <td>tia</td>\n",
       "      <td>29</td>\n",
       "      <td>70</td>\n",
       "      <td>82</td>\n",
       "    </tr>\n",
       "    <tr>\n",
       "      <th>3</th>\n",
       "      <td>kamal</td>\n",
       "      <td>32</td>\n",
       "      <td>87</td>\n",
       "      <td>79</td>\n",
       "    </tr>\n",
       "  </tbody>\n",
       "</table>\n",
       "</div>"
      ],
      "text/plain": [
       "     Name age  1st-exam  2nd-exam\n",
       "0  neveen  31        88        78\n",
       "1   yaser  33        90        93\n",
       "2     tia  29        70        82\n",
       "3   kamal  32        87        79"
      ]
     },
     "execution_count": 15,
     "metadata": {},
     "output_type": "execute_result"
    }
   ],
   "source": [
    "data"
   ]
  },
  {
   "cell_type": "markdown",
   "id": "fa25ccb2-2548-4ab8-8d04-c79ed8cc4a5b",
   "metadata": {},
   "source": [
    "# Create a new column and execute a mathematical procedure "
   ]
  },
  {
   "cell_type": "code",
   "execution_count": 19,
   "id": "da16ed49-f369-4142-85a6-1a7f0de8a29a",
   "metadata": {},
   "outputs": [
    {
     "data": {
      "text/html": [
       "<div>\n",
       "<style scoped>\n",
       "    .dataframe tbody tr th:only-of-type {\n",
       "        vertical-align: middle;\n",
       "    }\n",
       "\n",
       "    .dataframe tbody tr th {\n",
       "        vertical-align: top;\n",
       "    }\n",
       "\n",
       "    .dataframe thead th {\n",
       "        text-align: right;\n",
       "    }\n",
       "</style>\n",
       "<table border=\"1\" class=\"dataframe\">\n",
       "  <thead>\n",
       "    <tr style=\"text-align: right;\">\n",
       "      <th></th>\n",
       "      <th>Name</th>\n",
       "      <th>age</th>\n",
       "      <th>1st-exam</th>\n",
       "      <th>2nd-exam</th>\n",
       "      <th>final-score</th>\n",
       "    </tr>\n",
       "  </thead>\n",
       "  <tbody>\n",
       "    <tr>\n",
       "      <th>0</th>\n",
       "      <td>neveen</td>\n",
       "      <td>31</td>\n",
       "      <td>88</td>\n",
       "      <td>78</td>\n",
       "      <td>83.0</td>\n",
       "    </tr>\n",
       "    <tr>\n",
       "      <th>1</th>\n",
       "      <td>yaser</td>\n",
       "      <td>33</td>\n",
       "      <td>90</td>\n",
       "      <td>93</td>\n",
       "      <td>91.5</td>\n",
       "    </tr>\n",
       "    <tr>\n",
       "      <th>2</th>\n",
       "      <td>tia</td>\n",
       "      <td>29</td>\n",
       "      <td>70</td>\n",
       "      <td>82</td>\n",
       "      <td>76.0</td>\n",
       "    </tr>\n",
       "    <tr>\n",
       "      <th>3</th>\n",
       "      <td>kamal</td>\n",
       "      <td>32</td>\n",
       "      <td>87</td>\n",
       "      <td>79</td>\n",
       "      <td>83.0</td>\n",
       "    </tr>\n",
       "  </tbody>\n",
       "</table>\n",
       "</div>"
      ],
      "text/plain": [
       "     Name age  1st-exam  2nd-exam  final-score\n",
       "0  neveen  31        88        78         83.0\n",
       "1   yaser  33        90        93         91.5\n",
       "2     tia  29        70        82         76.0\n",
       "3   kamal  32        87        79         83.0"
      ]
     },
     "execution_count": 19,
     "metadata": {},
     "output_type": "execute_result"
    }
   ],
   "source": [
    "# create final score column\n",
    "data[\"final-score\"] = data.apply(lambda row: (row[\"1st-exam\"] + row[\"2nd-exam\"]) / 2, axis=1)\n",
    "data"
   ]
  },
  {
   "cell_type": "markdown",
   "id": "1f1d7bff-11c8-4b7e-82e4-91fa983624d0",
   "metadata": {},
   "source": [
    "# Create flag column"
   ]
  },
  {
   "cell_type": "code",
   "execution_count": 22,
   "id": "9fc56cc9-ed70-43bb-83b0-d9fc5642e34c",
   "metadata": {},
   "outputs": [],
   "source": [
    "data['final_grade'] = data['final-score'].apply(\n",
    "lambda x:  'A' if x > 91 else ('B' if x >=81 else 'C'))"
   ]
  },
  {
   "cell_type": "code",
   "execution_count": 24,
   "id": "913c1a75-5894-4ace-bfe6-5162341c6efc",
   "metadata": {},
   "outputs": [
    {
     "data": {
      "text/html": [
       "<div>\n",
       "<style scoped>\n",
       "    .dataframe tbody tr th:only-of-type {\n",
       "        vertical-align: middle;\n",
       "    }\n",
       "\n",
       "    .dataframe tbody tr th {\n",
       "        vertical-align: top;\n",
       "    }\n",
       "\n",
       "    .dataframe thead th {\n",
       "        text-align: right;\n",
       "    }\n",
       "</style>\n",
       "<table border=\"1\" class=\"dataframe\">\n",
       "  <thead>\n",
       "    <tr style=\"text-align: right;\">\n",
       "      <th></th>\n",
       "      <th>Name</th>\n",
       "      <th>age</th>\n",
       "      <th>1st-exam</th>\n",
       "      <th>2nd-exam</th>\n",
       "      <th>final-score</th>\n",
       "      <th>final_grade</th>\n",
       "    </tr>\n",
       "  </thead>\n",
       "  <tbody>\n",
       "    <tr>\n",
       "      <th>0</th>\n",
       "      <td>neveen</td>\n",
       "      <td>31</td>\n",
       "      <td>88</td>\n",
       "      <td>78</td>\n",
       "      <td>83.0</td>\n",
       "      <td>B</td>\n",
       "    </tr>\n",
       "    <tr>\n",
       "      <th>1</th>\n",
       "      <td>yaser</td>\n",
       "      <td>33</td>\n",
       "      <td>90</td>\n",
       "      <td>93</td>\n",
       "      <td>91.5</td>\n",
       "      <td>A</td>\n",
       "    </tr>\n",
       "    <tr>\n",
       "      <th>2</th>\n",
       "      <td>tia</td>\n",
       "      <td>29</td>\n",
       "      <td>70</td>\n",
       "      <td>82</td>\n",
       "      <td>76.0</td>\n",
       "      <td>C</td>\n",
       "    </tr>\n",
       "    <tr>\n",
       "      <th>3</th>\n",
       "      <td>kamal</td>\n",
       "      <td>32</td>\n",
       "      <td>87</td>\n",
       "      <td>79</td>\n",
       "      <td>83.0</td>\n",
       "      <td>B</td>\n",
       "    </tr>\n",
       "  </tbody>\n",
       "</table>\n",
       "</div>"
      ],
      "text/plain": [
       "     Name age  1st-exam  2nd-exam  final-score final_grade\n",
       "0  neveen  31        88        78         83.0           B\n",
       "1   yaser  33        90        93         91.5           A\n",
       "2     tia  29        70        82         76.0           C\n",
       "3   kamal  32        87        79         83.0           B"
      ]
     },
     "execution_count": 24,
     "metadata": {},
     "output_type": "execute_result"
    }
   ],
   "source": [
    "data"
   ]
  },
  {
   "cell_type": "code",
   "execution_count": null,
   "id": "d2b97be4-c994-4e9e-b7c1-8afde65925ec",
   "metadata": {},
   "outputs": [],
   "source": []
  }
 ],
 "metadata": {
  "kernelspec": {
   "display_name": "Python [conda env:20th_century]",
   "language": "python",
   "name": "conda-env-20th_century-py"
  },
  "language_info": {
   "codemirror_mode": {
    "name": "ipython",
    "version": 3
   },
   "file_extension": ".py",
   "mimetype": "text/x-python",
   "name": "python",
   "nbconvert_exporter": "python",
   "pygments_lexer": "ipython3",
   "version": "3.13.2"
  }
 },
 "nbformat": 4,
 "nbformat_minor": 5
}
