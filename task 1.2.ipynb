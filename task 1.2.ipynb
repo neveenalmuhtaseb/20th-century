{
 "cells": [
  {
   "cell_type": "markdown",
   "id": "567d3f98-3884-4226-8774-099bf704bf09",
   "metadata": {},
   "source": [
    "# Test"
   ]
  },
  {
   "cell_type": "code",
   "execution_count": 2,
   "id": "cd15d2ea-9cf4-431c-8fe1-c170217fa9e8",
   "metadata": {},
   "outputs": [
    {
     "data": {
      "text/plain": [
       "6"
      ]
     },
     "execution_count": 2,
     "metadata": {},
     "output_type": "execute_result"
    }
   ],
   "source": [
    "1+1+4"
   ]
  },
  {
   "cell_type": "code",
   "execution_count": 4,
   "id": "2da0309d-07f4-4af8-bbff-7bd4a62eb105",
   "metadata": {},
   "outputs": [],
   "source": [
    "import pandas"
   ]
  },
  {
   "cell_type": "code",
   "execution_count": 8,
   "id": "e270727c-0aa8-4e60-82b1-dd56092f7453",
   "metadata": {},
   "outputs": [],
   "source": [
    "hi='this is only a test notebook'"
   ]
  },
  {
   "cell_type": "code",
   "execution_count": 14,
   "id": "497ff9bc-61b8-485b-b02e-c9cdc015d3ef",
   "metadata": {},
   "outputs": [
    {
     "data": {
      "text/plain": [
       "'this is only a test notebook'"
      ]
     },
     "execution_count": 14,
     "metadata": {},
     "output_type": "execute_result"
    }
   ],
   "source": [
    "hi"
   ]
  },
  {
   "cell_type": "markdown",
   "id": "17dae9e9-317b-42f9-827b-d1c3a8b8aa05",
   "metadata": {},
   "source": [
    "# hi"
   ]
  },
  {
   "cell_type": "markdown",
   "id": "e22c076a",
   "metadata": {},
   "source": [
    "# bye"
   ]
  },
  {
   "cell_type": "markdown",
   "id": "6a640824",
   "metadata": {},
   "source": []
  }
 ],
 "metadata": {
  "kernelspec": {
   "display_name": "base",
   "language": "python",
   "name": "python3"
  },
  "language_info": {
   "codemirror_mode": {
    "name": "ipython",
    "version": 3
   },
   "file_extension": ".py",
   "mimetype": "text/x-python",
   "name": "python",
   "nbconvert_exporter": "python",
   "pygments_lexer": "ipython3",
   "version": "3.12.7"
  }
 },
 "nbformat": 4,
 "nbformat_minor": 5
}
